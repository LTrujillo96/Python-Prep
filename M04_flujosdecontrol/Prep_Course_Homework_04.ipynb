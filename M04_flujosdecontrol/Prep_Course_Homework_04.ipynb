{
 "cells": [
  {
   "attachments": {},
   "cell_type": "markdown",
   "metadata": {},
   "source": [
    "## Flujos de Control"
   ]
  },
  {
   "attachments": {},
   "cell_type": "markdown",
   "metadata": {},
   "source": [
    "1) Crear una variable que contenga un elemento del conjunto de números enteros y luego imprimir por pantalla si es mayor o menor a cero"
   ]
  },
  {
   "cell_type": "code",
   "execution_count": 3,
   "metadata": {},
   "outputs": [
    {
     "name": "stdout",
     "output_type": "stream",
     "text": [
      "Es mayor que 0\n"
     ]
    }
   ],
   "source": [
    "var1= 5\n",
    "if var1 > 0:\n",
    "    print (\"Es mayor que 0\")\n",
    "elif var1<0:\n",
    "    print(\"Es menor que 0\")\n",
    "else:\n",
    "    print(\"Es igual que 0\")"
   ]
  },
  {
   "attachments": {},
   "cell_type": "markdown",
   "metadata": {},
   "source": [
    "2) Crear dos variables y un condicional que informe si son del mismo tipo de dato"
   ]
  },
  {
   "cell_type": "code",
   "execution_count": null,
   "metadata": {},
   "outputs": [],
   "source": [
    "var_1= 1123\n",
    "var_2= \"Olakease\"\n",
    "if type(var_1) ==type(var_2):\n",
    "    print(\"son el mismo tipo de variable\")\n",
    "else:\n",
    "    print(\"son diferentes variables\")"
   ]
  },
  {
   "attachments": {},
   "cell_type": "markdown",
   "metadata": {},
   "source": [
    "3) Para los valores enteros del 1 al 20, imprimir por pantalla si es par o impar"
   ]
  },
  {
   "cell_type": "code",
   "execution_count": null,
   "metadata": {},
   "outputs": [],
   "source": [
    "for i in range(1,21):\n",
    "    if i%2 ==0:\n",
    "      print(f'el numero {i} es par')\n",
    "    else:\n",
    "      print(f'el numero {i} es impar')"
   ]
  },
  {
   "attachments": {},
   "cell_type": "markdown",
   "metadata": {},
   "source": [
    "4) En un ciclo for mostrar para los valores entre 0 y 5 el resultado de elevarlo a la potencia igual a 3"
   ]
  },
  {
   "cell_type": "code",
   "execution_count": null,
   "metadata": {},
   "outputs": [],
   "source": [
    "for i in range(0,6):\n",
    "    print(f'Valor: {i} elevado a la tercera potencia {i**3}')"
   ]
  },
  {
   "attachments": {},
   "cell_type": "markdown",
   "metadata": {},
   "source": [
    "5) Crear una variable que contenga un número entero y realizar un ciclo for la misma cantidad de ciclos"
   ]
  },
  {
   "cell_type": "code",
   "execution_count": null,
   "metadata": {},
   "outputs": [],
   "source": [
    "o = 7\n",
    "for i in range (0,o):\n",
    "   pass\n",
    "print(i) "
   ]
  },
  {
   "attachments": {},
   "cell_type": "markdown",
   "metadata": {},
   "source": [
    "6) Utilizar un ciclo while para realizar el factorial de un número guardado en una variable, sólo si la variable contiene un número entero mayor a 0"
   ]
  },
  {
   "cell_type": "code",
   "execution_count": null,
   "metadata": {},
   "outputs": [],
   "source": [
    "n = 5\n",
    "if type(n) == int:\n",
    "    if n > 0:\n",
    "        factorial = 1\n",
    "        while n > 1:\n",
    "            factorial *= n\n",
    "            n -= 1\n",
    "        print(f'El factorial es {factorial}')\n",
    "    else:\n",
    "        print('La variable no es mayor a cero')\n",
    "else:\n",
    "    print('La variable no es un entero')"
   ]
  },
  {
   "attachments": {},
   "cell_type": "markdown",
   "metadata": {},
   "source": [
    "7) Crear un ciclo for dentro de un ciclo while"
   ]
  },
  {
   "cell_type": "code",
   "execution_count": null,
   "metadata": {},
   "outputs": [],
   "source": [
    "r = 0\n",
    "while r < 3:\n",
    "    print(f\"Iteración del ciclo while: {r}\")\n",
    "    numbers = [1, 2, 3, 4, 5]\n",
    "    for number in numbers:\n",
    "        print(f\"  - Iteración del ciclo for: {number}\")\n",
    "    r += 1"
   ]
  },
  {
   "attachments": {},
   "cell_type": "markdown",
   "metadata": {},
   "source": [
    "8) Crear un ciclo while dentro de un ciclo for"
   ]
  },
  {
   "cell_type": "code",
   "execution_count": null,
   "metadata": {},
   "outputs": [],
   "source": [
    "numbers = [1, 2, 3, 4]\n",
    "for number in numbers:\n",
    "    print(f\"Iteración del ciclo for: {number}\")\n",
    "    contador = 0\n",
    "    while contador < 3:\n",
    "        print(f\"  - Iteración del ciclo while: {contador}\")\n",
    "        contador += 1"
   ]
  },
  {
   "attachments": {},
   "cell_type": "markdown",
   "metadata": {},
   "source": [
    "9) Imprimir los números primos existentes entre 0 y 30"
   ]
  },
  {
   "cell_type": "code",
   "execution_count": 3,
   "metadata": {},
   "outputs": [
    {
     "name": "stdout",
     "output_type": "stream",
     "text": [
      "0\n",
      "1\n",
      "2\n",
      "3\n",
      "5\n",
      "7\n",
      "11\n",
      "13\n",
      "17\n",
      "19\n",
      "23\n",
      "29\n"
     ]
    }
   ],
   "source": [
    "limite = 30\n",
    "i = 0\n",
    "primo = True\n",
    "while (i < limite):\n",
    "    for ejm in range (2,i):\n",
    "        if (i % ejm == 0):\n",
    "            primo = False\n",
    "    if (primo):\n",
    "            print(i)\n",
    "    else:\n",
    "            primo=True\n",
    "    i += 1"
   ]
  },
  {
   "attachments": {},
   "cell_type": "markdown",
   "metadata": {},
   "source": [
    "10) ¿Se puede mejorar el proceso del punto 9? Utilizar las sentencias break y/ó continue para tal fin"
   ]
  },
  {
   "cell_type": "code",
   "execution_count": 8,
   "metadata": {},
   "outputs": [
    {
     "name": "stdout",
     "output_type": "stream",
     "text": [
      "2\n",
      "3\n",
      "5\n",
      "7\n",
      "11\n",
      "13\n",
      "17\n",
      "19\n",
      "23\n",
      "29\n"
     ]
    }
   ],
   "source": [
    "limite = 30\n",
    "i = 0\n",
    "while (i < limite): \n",
    "    primo = True\n",
    "    if i < 2: \n",
    "        primo = False\n",
    "    for div in range(2, i):\n",
    "        if (i % div == 0):\n",
    "            primo = False\n",
    "            break  \n",
    "    if (primo):\n",
    "        print(i)\n",
    "    i += 1"
   ]
  },
  {
   "attachments": {},
   "cell_type": "markdown",
   "metadata": {},
   "source": [
    "11) En los puntos 9 y 10, se diseño un código que encuentra números primos y además se lo optimizó. ¿Es posible saber en qué medida se optimizó?"
   ]
  },
  {
   "cell_type": "code",
   "execution_count": null,
   "metadata": {},
   "outputs": [],
   "source": [
    "#El uso de break hace que el código sea más eficiente, ya que deja de verificar divisores tan pronto como encuentra uno."
   ]
  },
  {
   "attachments": {},
   "cell_type": "markdown",
   "metadata": {},
   "source": [
    "12) Aplicando continue, armar un ciclo while que solo imprima los valores divisibles por 12, dentro del rango de números de 100 a 300"
   ]
  },
  {
   "cell_type": "code",
   "execution_count": 14,
   "metadata": {},
   "outputs": [
    {
     "name": "stdout",
     "output_type": "stream",
     "text": [
      "108 es divisible entre 12\n",
      "120 es divisible entre 12\n",
      "132 es divisible entre 12\n",
      "144 es divisible entre 12\n",
      "156 es divisible entre 12\n",
      "168 es divisible entre 12\n",
      "180 es divisible entre 12\n",
      "192 es divisible entre 12\n",
      "204 es divisible entre 12\n",
      "216 es divisible entre 12\n",
      "228 es divisible entre 12\n",
      "240 es divisible entre 12\n",
      "252 es divisible entre 12\n",
      "264 es divisible entre 12\n",
      "276 es divisible entre 12\n",
      "288 es divisible entre 12\n",
      "300 es divisible entre 12\n"
     ]
    }
   ],
   "source": [
    "i = 99\n",
    "while (i <= 300):\n",
    "        i += 1 \n",
    "        if (i % 12 != 0):\n",
    "            continue\n",
    "        print(f'{i} es divisible entre 12')\n",
    "            "
   ]
  },
  {
   "attachments": {},
   "cell_type": "markdown",
   "metadata": {},
   "source": [
    "13) Utilizar la función **input()** que permite hacer ingresos por teclado, para encontrar números primos y dar la opción al usario de buscar el siguiente"
   ]
  },
  {
   "cell_type": "code",
   "execution_count": 2,
   "metadata": {},
   "outputs": [
    {
     "name": "stdout",
     "output_type": "stream",
     "text": [
      "2\n",
      "¿Desea encontrar el siguiente número primo? (1 para sí, cualquier otro para no)\n"
     ]
    }
   ],
   "source": [
    "n = 1\n",
    "sigue = 1\n",
    "\n",
    "while (sigue == 1):\n",
    "    primo = True \n",
    "    if n < 2:  \n",
    "        primo = False\n",
    "    else:\n",
    "        for div in range(2, int(n**0.5) + 1):\n",
    "            if n % div == 0:\n",
    "                primo = False\n",
    "                break\n",
    "    \n",
    "    if primo:\n",
    "        print(n)\n",
    "        print('¿Desea encontrar el siguiente número primo? (1 para sí, cualquier otro para no)')\n",
    "        if input() != '1':\n",
    "            print('Se finaliza el proceso')\n",
    "            break\n",
    "    n += 1"
   ]
  },
  {
   "attachments": {},
   "cell_type": "markdown",
   "metadata": {},
   "source": [
    "14) Crear un ciclo while que encuentre dentro del rango de 100 a 300 el primer número divisible por 3 y además múltiplo de 6"
   ]
  },
  {
   "cell_type": "code",
   "execution_count": 2,
   "metadata": {},
   "outputs": [
    {
     "name": "stdout",
     "output_type": "stream",
     "text": [
      "El numero es 102\n"
     ]
    }
   ],
   "source": [
    "u= 100\n",
    "while(u<=300):\n",
    "    if (u % 6 == 0):\n",
    "        print(f'El numero es {u}')\n",
    "        break\n",
    "    u+=1"
   ]
  }
 ],
 "metadata": {
  "interpreter": {
   "hash": "c85384e4cb51c8b72350f3a8712cc8351fdc3955e32a27f9b60c6242ab125f01"
  },
  "kernelspec": {
   "display_name": "Python 3 (ipykernel)",
   "language": "python",
   "name": "python3"
  },
  "language_info": {
   "codemirror_mode": {
    "name": "ipython",
    "version": 3
   },
   "file_extension": ".py",
   "mimetype": "text/x-python",
   "name": "python",
   "nbconvert_exporter": "python",
   "pygments_lexer": "ipython3",
   "version": "3.11.9"
  }
 },
 "nbformat": 4,
 "nbformat_minor": 4
}
