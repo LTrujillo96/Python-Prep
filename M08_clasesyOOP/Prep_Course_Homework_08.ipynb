{
 "cells": [
  {
   "attachments": {},
   "cell_type": "markdown",
   "metadata": {},
   "source": [
    "## Clases y Programación Orientada a Objetos"
   ]
  },
  {
   "attachments": {},
   "cell_type": "markdown",
   "metadata": {},
   "source": [
    "1) Crear la clase vehículo que contenga los atributos:<br>\n",
    "Color<br>\n",
    "Si es moto, auto, camioneta ó camión<br>\n",
    "Cilindrada del motor"
   ]
  },
  {
   "cell_type": "code",
   "execution_count": 1,
   "metadata": {},
   "outputs": [],
   "source": [
    "class Vehiculo:\n",
    "    def __init__(self, color, tipo, cilindrada):\n",
    "        self.color= color\n",
    "        self.tipo=tipo\n",
    "        self.cilindrada=cilindrada"
   ]
  },
  {
   "attachments": {},
   "cell_type": "markdown",
   "metadata": {},
   "source": [
    "2) A la clase Vehiculo creada en el punto 1, agregar los siguientes métodos:<br>\n",
    "Acelerar<br>\n",
    "Frenar<br>\n",
    "Doblar<br>"
   ]
  },
  {
   "cell_type": "code",
   "execution_count": 5,
   "metadata": {},
   "outputs": [],
   "source": [
    "class Vehiculo:\n",
    "    def __init__(self, color, tipo, cilindrada):\n",
    "        self.color = color\n",
    "        self.tipo = tipo\n",
    "        self.cilindrada = cilindrada\n",
    "        self.velocidad = 0\n",
    "        self.direccion = 0\n",
    "\n",
    "    def acelerar(self,vel):\n",
    "      self.velocidad += vel\n",
    "         \n",
    "    def frenar(self,vel):\n",
    "       self.velocidad-= vel\n",
    "\n",
    "    def doblar(self,grados):\n",
    "       self.direccion += grados"
   ]
  },
  {
   "attachments": {},
   "cell_type": "markdown",
   "metadata": {},
   "source": [
    "3) Instanciar 3 objetos de la clase vehículo y ejecutar sus métodos, probar luego el resultado"
   ]
  },
  {
   "cell_type": "code",
   "execution_count": 9,
   "metadata": {},
   "outputs": [],
   "source": [
    "a1 = Vehiculo(\"rojo\", \"carro\", 2)\n",
    "a2 = Vehiculo(\"verde\", \"camion\", 5)\n",
    "a3 = Vehiculo(\"negra\", \"moto\", 3)"
   ]
  },
  {
   "cell_type": "code",
   "execution_count": 17,
   "metadata": {},
   "outputs": [],
   "source": [
    "a1.acelerar(60)\n",
    "a2.acelerar(10)\n",
    "a3.acelerar(20)\n",
    "a1.frenar(40)\n",
    "a2.frenar(10)\n",
    "a3.doblar(5)\n"
   ]
  },
  {
   "attachments": {},
   "cell_type": "markdown",
   "metadata": {},
   "source": [
    "4) Agregar a la clase Vehiculo, un método que muestre su estado, es decir, a que velocidad se encuentra y su dirección. Y otro método que muestre color, tipo y cilindrada"
   ]
  },
  {
   "cell_type": "code",
   "execution_count": 23,
   "metadata": {},
   "outputs": [],
   "source": [
    "class Vehiculo:\n",
    "    def __init__(self, color, tipo, cilindrada):\n",
    "        self.color = color\n",
    "        self.tipo = tipo\n",
    "        self.cilindrada = cilindrada\n",
    "        self.velocidad = 0\n",
    "        self.direccion = 0\n",
    "\n",
    "    def acelerar(self,vel):\n",
    "      self.velocidad += vel\n",
    "         \n",
    "    def frenar(self,vel):\n",
    "       self.velocidad-= vel\n",
    "\n",
    "    def doblar(self,grados):\n",
    "       self.direccion += grados\n",
    "    def estado(self):\n",
    "       print('velocidad actual: ',self.velocidad,',Direccion actual: ',self.direccion)\n",
    "    def Detalle (self):\n",
    "       print(f'soy un {self.tipo} de color {self.color} con un cilindraje de {self.cilindrada} litros')"
   ]
  },
  {
   "cell_type": "code",
   "execution_count": 24,
   "metadata": {},
   "outputs": [],
   "source": [
    "a1 = Vehiculo(\"rojo\", \"carro\", 2)\n",
    "a2 = Vehiculo(\"verde\", \"camion\", 5)\n",
    "a3 = Vehiculo(\"negra\", \"moto\", 3)"
   ]
  },
  {
   "cell_type": "code",
   "execution_count": 18,
   "metadata": {},
   "outputs": [
    {
     "name": "stdout",
     "output_type": "stream",
     "text": [
      "velocidad actual:  20 ,Direccion actual:  0\n"
     ]
    }
   ],
   "source": [
    "a1.estado()"
   ]
  },
  {
   "cell_type": "code",
   "execution_count": 25,
   "metadata": {},
   "outputs": [
    {
     "name": "stdout",
     "output_type": "stream",
     "text": [
      "soy un carro de color rojo con un cilindraje de 2 litros\n"
     ]
    }
   ],
   "source": [
    "a1.Detalle()"
   ]
  },
  {
   "attachments": {},
   "cell_type": "markdown",
   "metadata": {},
   "source": [
    "5) Crear una clase que permita utilizar las funciones creadas en la práctica del módulo 7<br>\n",
    "Verificar Primo<br>\n",
    "Valor modal<br>\n",
    "Conversión grados<br>\n",
    "Factorial<br>"
   ]
  },
  {
   "cell_type": "code",
   "execution_count": 7,
   "metadata": {},
   "outputs": [],
   "source": [
    "class Herramientas:\n",
    "    def __init__(self):\n",
    "        pass\n",
    "\n",
    "    def verifica_primo(self, nro):\n",
    "        es_primo = True\n",
    "        for i in range(2, nro):\n",
    "            if nro % i == 0:\n",
    "                es_primo = False\n",
    "                break\n",
    "        return es_primo\n",
    "\n",
    "    def valor_modal(self,lista):\n",
    "        lista_unicos = []\n",
    "        lista_repeticiones = []\n",
    "        if len(lista) == 0:\n",
    "            return None\n",
    "        for elemento in lista:\n",
    "            if elemento in lista_unicos:\n",
    "                i = lista_unicos.index(elemento)\n",
    "                lista_repeticiones[i] += 1\n",
    "            else:\n",
    "                lista_unicos.append(elemento)\n",
    "                lista_repeticiones.append(1)\n",
    "        moda = lista_unicos[0]\n",
    "        maximo = lista_repeticiones[0]\n",
    "        for i, elemento in enumerate(lista_unicos):\n",
    "            if lista_repeticiones[i] > maximo:\n",
    "                moda = lista_unicos[i]\n",
    "                maximo = lista_repeticiones[i]\n",
    "        return moda, maximo\n",
    "\n",
    "    def conversion_grados(self, valor, origen, destino):\n",
    "        valor_destino = None\n",
    "        if (origen == 'celsius'):\n",
    "            if (destino == 'celsius'):\n",
    "                valor_destino = valor\n",
    "            elif (destino == 'farenheit'):\n",
    "                valor_destino = (valor * 9 / 5) + 32\n",
    "            elif (destino == 'kelvin'):\n",
    "                valor_destino = valor + 273.15\n",
    "            else:\n",
    "                print('Parámetro de Destino incorrecto')\n",
    "        elif (origen == 'farenheit'):\n",
    "            if (destino == 'celsius'):\n",
    "                valor_destino = (valor - 32) * 5 / 9\n",
    "            elif (destino == 'farenheit'):\n",
    "                valor_destino = valor\n",
    "            elif (destino == 'kelvin'):\n",
    "                valor_destino = ((valor - 32) * 5 / 9) + 273.15\n",
    "            else:\n",
    "                print('Parámetro de Destino incorrecto')\n",
    "        elif (origen == 'kelvin'):\n",
    "            if (destino == 'celsius'):\n",
    "                valor_destino = valor - 273.15\n",
    "            elif (destino == 'farenheit'):\n",
    "                valor_destino = ((valor - 273.15) * 9 / 5) + 32\n",
    "            elif (destino == 'kelvin'):\n",
    "                valor_destino = valor\n",
    "            else:\n",
    "                print('Parámetro de Destino incorrecto')\n",
    "        else:\n",
    "            print('Parámetro de Origen incorrecto')\n",
    "        return valor_destino\n",
    "\n",
    "    def factorial(self, numero):\n",
    "        if(type(numero) != int):\n",
    "            return 'El numero debe ser un entero'\n",
    "        if(numero < 0):\n",
    "            return 'El numero debe ser pisitivo'\n",
    "        if (numero > 1):\n",
    "            numero = numero * self.factorial(numero - 1)\n",
    "        return numero\n"
   ]
  },
  {
   "attachments": {},
   "cell_type": "markdown",
   "metadata": {},
   "source": [
    "6) Probar las funciones incorporadas en la clase del punto 5"
   ]
  },
  {
   "cell_type": "code",
   "execution_count": 8,
   "metadata": {},
   "outputs": [],
   "source": [
    "h = Herramientas()"
   ]
  },
  {
   "cell_type": "code",
   "execution_count": 4,
   "metadata": {},
   "outputs": [
    {
     "data": {
      "text/plain": [
       "True"
      ]
     },
     "execution_count": 4,
     "metadata": {},
     "output_type": "execute_result"
    }
   ],
   "source": [
    "h.verifica_primo(7)"
   ]
  },
  {
   "cell_type": "code",
   "execution_count": 10,
   "metadata": {},
   "outputs": [
    {
     "data": {
      "text/plain": [
       "(8, 2)"
      ]
     },
     "execution_count": 10,
     "metadata": {},
     "output_type": "execute_result"
    }
   ],
   "source": [
    "listado = [1,8,2,5,4,8,10,7]\n",
    "h.valor_modal(listado)"
   ]
  },
  {
   "cell_type": "code",
   "execution_count": 6,
   "metadata": {},
   "outputs": [
    {
     "data": {
      "text/plain": [
       "120"
      ]
     },
     "execution_count": 6,
     "metadata": {},
     "output_type": "execute_result"
    }
   ],
   "source": [
    "h.factorial(5)"
   ]
  },
  {
   "attachments": {},
   "cell_type": "markdown",
   "metadata": {},
   "source": [
    "7) Es necesario que la clase creada en el punto 5 contenga una lista, sobre la cual se apliquen las funciones incorporadas"
   ]
  },
  {
   "cell_type": "code",
   "execution_count": 32,
   "metadata": {},
   "outputs": [],
   "source": [
    "class Herramientas:\n",
    "    def __init__(self, lista_numeros):\n",
    "        self.lista= lista_numeros\n",
    "        \n",
    "\n",
    "    def verifica_primo(self):\n",
    "        for i in self.lista:\n",
    "            if (self._verifica_primo(i)):\n",
    "                print('El elemento', i, 'Si es un numero primo')\n",
    "            else:\n",
    "                print('El elemento', i, 'No es un numero primo')\n",
    "    def conversion_grados(self, origen, destino):\n",
    "        for i in self.lista:\n",
    "            print(i, 'Grados', origen, 'son', self._conversion_grados(i,origen,destino), 'grados', destino)\n",
    "\n",
    "    def factorial(self):\n",
    "        for i in self.lista:\n",
    "            print('El factorial de ', i, 'es', self._factorial(i))\n",
    "\n",
    "    def _verifica_primo(self, nro):\n",
    "        es_primo = True\n",
    "        for i in range(2, nro):\n",
    "            if nro % i == 0:\n",
    "                es_primo = False\n",
    "                break\n",
    "        return es_primo\n",
    "\n",
    "    def valor_modal(self,menor):\n",
    "        lista_unicos = []\n",
    "        lista_repeticiones = []\n",
    "        if len(self.lista) == 0:\n",
    "            return None\n",
    "        for elemento in self.lista:\n",
    "            if elemento in lista_unicos:\n",
    "                i = lista_unicos.index(elemento)\n",
    "                lista_repeticiones[i] += 1\n",
    "            else:\n",
    "                lista_unicos.append(elemento)\n",
    "                lista_repeticiones.append(1)\n",
    "        moda = lista_unicos[0]\n",
    "        maximo = lista_repeticiones[0]\n",
    "        for i, elemento in enumerate(lista_unicos):\n",
    "            if lista_repeticiones[i] > maximo:\n",
    "                moda = lista_unicos[i]\n",
    "                maximo = lista_repeticiones[i]\n",
    "        return moda, maximo\n",
    "\n",
    "    def _conversion_grados(self, valor, origen, destino):\n",
    "        valor_destino = None\n",
    "        if (origen == 'celsius'):\n",
    "            if (destino == 'celsius'):\n",
    "                valor_destino = valor\n",
    "            elif (destino == 'farenheit'):\n",
    "                valor_destino = (valor * 9 / 5) + 32\n",
    "            elif (destino == 'kelvin'):\n",
    "                valor_destino = valor + 273.15\n",
    "            else:\n",
    "                print('Parámetro de Destino incorrecto')\n",
    "        elif (origen == 'farenheit'):\n",
    "            if (destino == 'celsius'):\n",
    "                valor_destino = (valor - 32) * 5 / 9\n",
    "            elif (destino == 'farenheit'):\n",
    "                valor_destino = valor\n",
    "            elif (destino == 'kelvin'):\n",
    "                valor_destino = ((valor - 32) * 5 / 9) + 273.15\n",
    "            else:\n",
    "                print('Parámetro de Destino incorrecto')\n",
    "        elif (origen == 'kelvin'):\n",
    "            if (destino == 'celsius'):\n",
    "                valor_destino = valor - 273.15\n",
    "            elif (destino == 'farenheit'):\n",
    "                valor_destino = ((valor - 273.15) * 9 / 5) + 32\n",
    "            elif (destino == 'kelvin'):\n",
    "                valor_destino = valor\n",
    "            else:\n",
    "                print('Parámetro de Destino incorrecto')\n",
    "        else:\n",
    "            print('Parámetro de Origen incorrecto')\n",
    "        return valor_destino\n",
    "\n",
    "    def _factorial(self, numero):\n",
    "        if(type(numero) != int):\n",
    "            return 'El numero debe ser un entero'\n",
    "        if(numero < 0):\n",
    "            return 'El numero debe ser pisitivo'\n",
    "        if (numero > 1):\n",
    "            numero = numero * self.factorial(numero - 1)\n",
    "        return numero"
   ]
  },
  {
   "attachments": {},
   "cell_type": "markdown",
   "metadata": {},
   "source": [
    "8) Crear un archivo .py aparte y ubicar allí la clase generada en el punto anterior. Luego realizar la importación del módulo y probar alguna de sus funciones"
   ]
  },
  {
   "cell_type": "code",
   "execution_count": 33,
   "metadata": {},
   "outputs": [],
   "source": [
    "from herrmientas_ejemplo import *\n"
   ]
  },
  {
   "cell_type": "code",
   "execution_count": 34,
   "metadata": {},
   "outputs": [],
   "source": [
    "h2 = Herramientas([1,1,2,3,5,6,8,8])"
   ]
  },
  {
   "cell_type": "code",
   "execution_count": 35,
   "metadata": {},
   "outputs": [
    {
     "name": "stdout",
     "output_type": "stream",
     "text": [
      "El elemento 1 Si es un numero primo\n",
      "El elemento 1 Si es un numero primo\n",
      "El elemento 2 Si es un numero primo\n",
      "El elemento 3 Si es un numero primo\n",
      "El elemento 5 Si es un numero primo\n",
      "El elemento 6 No es un numero primo\n",
      "El elemento 8 No es un numero primo\n",
      "El elemento 8 No es un numero primo\n"
     ]
    }
   ],
   "source": [
    "h2.verifica_primo()"
   ]
  }
 ],
 "metadata": {
  "interpreter": {
   "hash": "c85384e4cb51c8b72350f3a8712cc8351fdc3955e32a27f9b60c6242ab125f01"
  },
  "kernelspec": {
   "display_name": "Python 3 (ipykernel)",
   "language": "python",
   "name": "python3"
  },
  "language_info": {
   "codemirror_mode": {
    "name": "ipython",
    "version": 3
   },
   "file_extension": ".py",
   "mimetype": "text/x-python",
   "name": "python",
   "nbconvert_exporter": "python",
   "pygments_lexer": "ipython3",
   "version": "3.11.9"
  }
 },
 "nbformat": 4,
 "nbformat_minor": 4
}
